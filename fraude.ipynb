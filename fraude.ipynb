{
 "cells": [
  {
   "cell_type": "markdown",
   "metadata": {},
   "source": [
    "# **Variáveis do dataset**\n",
    "\n",
    "**step** - mapeia uma unidade de tempo no mundo real. Neste caso, 1 passo é 1 hora de tempo. Total de etapas 744 (simulação de 30 dias).\n",
    "\n",
    "**type** - CASH-IN, CASH-OUT, DEBIT, PAYMENT and TRANSFER. \n",
    "(caixa-de-entrada, caixa-de-saida, débito, pagamento e transferência)\n",
    "\n",
    "**amount** - valor da transação em moeda local.\n",
    "\n",
    "**nameOrig** - cliente que iniciou a transação\n",
    "\n",
    "**oldbalanceOrg** - saldo inicial antes da transação\n",
    "\n",
    "**newbalanceOrig** - novo saldo após a transação\n",
    "\n",
    "**nameDest** - cliente que é o destinatário da transação\n",
    "\n",
    "**oldbalanceDest** - destinatário do saldo inicial antes da transação. \n",
    "Observe que não há informações para clientes que começam com M (Comerciantes).\n",
    "\n",
    "**newbalanceDest** - novo destinatário do saldo após a transação. Observe que não há informações para clientes que começam com M (Comerciantes).\n",
    "\n",
    "**isFraud** - São as transações feitas pelos agentes fraudulentos dentro da simulação. Neste conjunto de dados específico, o comportamento fraudulento dos agentes visa lucrar ao assumir o controle das contas dos clientes e tentar esvaziar os fundos transferindo para outra conta e depois sacando do sistema.\n",
    "\n",
    "**isFlaggedFraud** - O modelo de negócios visa controlar transferências massivas de uma conta para outra e sinaliza tentativas ilegais. Uma tentativa ilegal neste conjunto de dados é uma tentativa de transferir mais de 200.000 em uma única transação.\n"
   ]
  }
 ],
 "metadata": {
  "language_info": {
   "name": "python"
  }
 },
 "nbformat": 4,
 "nbformat_minor": 2
}
